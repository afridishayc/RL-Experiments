{
 "cells": [
  {
   "cell_type": "code",
   "execution_count": 24,
   "id": "b07918dd",
   "metadata": {},
   "outputs": [],
   "source": [
    "import json\n",
    "import copy\n",
    "import tqdm\n",
    "import numpy as np\n",
    "import numpy.random as rnd\n",
    "import matplotlib.pyplot as plt\n",
    "from collections import defaultdict\n",
    "\n",
    "from VecnaWarehouseEnv import VecnaWarehouseEnv\n",
    "\n",
    "plt.style.use('ggplot')\n",
    "plt.rcParams['figure.figsize'] = 18, 6"
   ]
  },
  {
   "cell_type": "markdown",
   "id": "4c22e00f",
   "metadata": {},
   "source": [
    "## Utils for Model Learning"
   ]
  },
  {
   "cell_type": "code",
   "execution_count": 2,
   "id": "7e15932a",
   "metadata": {},
   "outputs": [],
   "source": [
    "def rolling_average(data, window_size):\n",
    "    kernel = np.ones(window_size)\n",
    "    smooth_data = np.convolve(data, kernel) / np.convolve(np.ones_like(data), kernel)\n",
    "    return smooth_data[: -window_size + 1]"
   ]
  },
  {
   "cell_type": "code",
   "execution_count": 3,
   "id": "80ba14f5",
   "metadata": {},
   "outputs": [],
   "source": [
    "# e-Greedy action selection for a policy\n",
    "def select_action_epsilon_greedy(Q_array, eps):\n",
    "    if rnd.rand() < eps:\n",
    "        num_actions = Q_array.shape[0]\n",
    "        action = rnd.randint(num_actions)\n",
    "    else:\n",
    "        actions_maximal = np.argwhere(Q_array == Q_array.max()).flatten()\n",
    "        action = rnd.choice(actions_maximal)\n",
    "    return action"
   ]
  },
  {
   "cell_type": "code",
   "execution_count": 5,
   "id": "d34fcca3",
   "metadata": {},
   "outputs": [],
   "source": [
    "# Scheduler for decaying the agent exploration (epsilon value)\n",
    "class LinearSchedule:\n",
    "    def __init__(self, value_from, value_to, nsteps):\n",
    "        self.value_from = value_from\n",
    "        self.value_to = value_to\n",
    "        self.nsteps = nsteps\n",
    "\n",
    "    def value(self, step):\n",
    "        if step <= 0:\n",
    "            value = self.value_from\n",
    "        elif step >= self.nsteps - 1:\n",
    "            value = self.value_to\n",
    "        else:\n",
    "            value = self.value_from + ((self.value_to - self.value_from) / (self.nsteps - 1)) * step\n",
    "        return value"
   ]
  },
  {
   "cell_type": "markdown",
   "id": "65cbad0f",
   "metadata": {},
   "source": [
    "## Policy Learning using Q-Learning"
   ]
  },
  {
   "cell_type": "code",
   "execution_count": 9,
   "id": "c94815f0",
   "metadata": {},
   "outputs": [],
   "source": [
    "# Toy warehouse environment\n",
    "vwh = VecnaWarehouseEnv()"
   ]
  },
  {
   "cell_type": "code",
   "execution_count": 10,
   "id": "6accff22",
   "metadata": {},
   "outputs": [],
   "source": [
    "# Tabular Q learning algorithm\n",
    "def tabular_q_learning(env, num_episodes, num_steps_max, alpha, gamma, exploration):\n",
    "    Q = defaultdict(\n",
    "        lambda: np.zeros(env.action_space.n))\n",
    "    returns = np.empty(num_episodes)\n",
    "    lengths = np.empty(num_episodes, dtype=np.int)\n",
    "    exploration_steps = 0\n",
    "    for i in tqdm.tnrange(num_episodes, desc='Episodes', leave=False):\n",
    "        prev_state = env.reset()\n",
    "        episode_length = 0\n",
    "        episode_return = 0\n",
    "        for j in range(num_steps_max):\n",
    "            epsilon = exploration.value(i)\n",
    "            action = select_action_epsilon_greedy(Q[prev_state], eps=epsilon)\n",
    "            curr_state, reward, done, _ = env.step(action)\n",
    "            td = reward + (gamma * np.max(Q[curr_state])) - Q[prev_state][action]\n",
    "            Q[prev_state][action] = Q[prev_state][action] + alpha * (td)\n",
    "            exploration_steps += 1\n",
    "            episode_length += 1\n",
    "            episode_return += reward\n",
    "            if done:\n",
    "                break\n",
    "            prev_state = curr_state\n",
    "        returns[i] = episode_return\n",
    "        lengths[i] = episode_length\n",
    "    return Q, returns, lengths"
   ]
  },
  {
   "cell_type": "markdown",
   "id": "0b452d58",
   "metadata": {},
   "source": [
    "## Agent Training"
   ]
  },
  {
   "cell_type": "code",
   "execution_count": 11,
   "id": "8eda863c",
   "metadata": {},
   "outputs": [
    {
     "name": "stderr",
     "output_type": "stream",
     "text": [
      "C:\\Users\\afrid\\AppData\\Local\\Temp\\ipykernel_21220\\1092333270.py:3: DeprecationWarning: `np.int` is a deprecated alias for the builtin `int`. To silence this warning, use `int` by itself. Doing this will not modify any behavior and is safe. When replacing `np.int`, you may wish to use e.g. `np.int64` or `np.int32` to specify the precision. If you wish to review your current use, check the release note link for additional information.\n",
      "Deprecated in NumPy 1.20; for more details and guidance: https://numpy.org/devdocs/release/1.20.0-notes.html#deprecations\n",
      "  lengths_ql_fl = np.empty((num_runs, num_episodes), dtype=np.int)\n",
      "C:\\Users\\afrid\\AppData\\Local\\Temp\\ipykernel_21220\\1092333270.py:6: TqdmDeprecationWarning: Please use `tqdm.notebook.trange` instead of `tqdm.tnrange`\n",
      "  for i in tqdm.tnrange(num_runs, desc='Runs'):\n"
     ]
    },
    {
     "data": {
      "application/vnd.jupyter.widget-view+json": {
       "model_id": "4a890f58b53f422892f5c7d6132f7b0f",
       "version_major": 2,
       "version_minor": 0
      },
      "text/plain": [
       "Runs:   0%|          | 0/10 [00:00<?, ?it/s]"
      ]
     },
     "metadata": {},
     "output_type": "display_data"
    },
    {
     "data": {
      "application/vnd.jupyter.widget-view+json": {
       "model_id": "",
       "version_major": 2,
       "version_minor": 0
      },
      "text/plain": [
       "Episodes:   0%|          | 0/100000 [00:00<?, ?it/s]"
      ]
     },
     "metadata": {},
     "output_type": "display_data"
    },
    {
     "data": {
      "application/vnd.jupyter.widget-view+json": {
       "model_id": "",
       "version_major": 2,
       "version_minor": 0
      },
      "text/plain": [
       "Episodes:   0%|          | 0/100000 [00:00<?, ?it/s]"
      ]
     },
     "metadata": {},
     "output_type": "display_data"
    },
    {
     "data": {
      "application/vnd.jupyter.widget-view+json": {
       "model_id": "",
       "version_major": 2,
       "version_minor": 0
      },
      "text/plain": [
       "Episodes:   0%|          | 0/100000 [00:00<?, ?it/s]"
      ]
     },
     "metadata": {},
     "output_type": "display_data"
    },
    {
     "data": {
      "application/vnd.jupyter.widget-view+json": {
       "model_id": "",
       "version_major": 2,
       "version_minor": 0
      },
      "text/plain": [
       "Episodes:   0%|          | 0/100000 [00:00<?, ?it/s]"
      ]
     },
     "metadata": {},
     "output_type": "display_data"
    },
    {
     "data": {
      "application/vnd.jupyter.widget-view+json": {
       "model_id": "",
       "version_major": 2,
       "version_minor": 0
      },
      "text/plain": [
       "Episodes:   0%|          | 0/100000 [00:00<?, ?it/s]"
      ]
     },
     "metadata": {},
     "output_type": "display_data"
    },
    {
     "data": {
      "application/vnd.jupyter.widget-view+json": {
       "model_id": "",
       "version_major": 2,
       "version_minor": 0
      },
      "text/plain": [
       "Episodes:   0%|          | 0/100000 [00:00<?, ?it/s]"
      ]
     },
     "metadata": {},
     "output_type": "display_data"
    },
    {
     "data": {
      "application/vnd.jupyter.widget-view+json": {
       "model_id": "",
       "version_major": 2,
       "version_minor": 0
      },
      "text/plain": [
       "Episodes:   0%|          | 0/100000 [00:00<?, ?it/s]"
      ]
     },
     "metadata": {},
     "output_type": "display_data"
    },
    {
     "data": {
      "application/vnd.jupyter.widget-view+json": {
       "model_id": "",
       "version_major": 2,
       "version_minor": 0
      },
      "text/plain": [
       "Episodes:   0%|          | 0/100000 [00:00<?, ?it/s]"
      ]
     },
     "metadata": {},
     "output_type": "display_data"
    },
    {
     "data": {
      "application/vnd.jupyter.widget-view+json": {
       "model_id": "",
       "version_major": 2,
       "version_minor": 0
      },
      "text/plain": [
       "Episodes:   0%|          | 0/100000 [00:00<?, ?it/s]"
      ]
     },
     "metadata": {},
     "output_type": "display_data"
    },
    {
     "data": {
      "application/vnd.jupyter.widget-view+json": {
       "model_id": "",
       "version_major": 2,
       "version_minor": 0
      },
      "text/plain": [
       "Episodes:   0%|          | 0/100000 [00:00<?, ?it/s]"
      ]
     },
     "metadata": {},
     "output_type": "display_data"
    }
   ],
   "source": [
    "# Train model for 100,000 episodes to learn a reasonable policy\n",
    "num_runs, num_episodes, num_steps_max = 10, 100_000, 100\n",
    "returns_ql_fl = np.empty((num_runs, num_episodes))\n",
    "lengths_ql_fl = np.empty((num_runs, num_episodes), dtype=np.int)\n",
    "\n",
    "exp = LinearSchedule(100, 0.02, num_episodes/10)\n",
    "for i in tqdm.tnrange(num_runs, desc='Runs'):\n",
    "    Q, ret, lens = tabular_q_learning(vwh, num_episodes, num_steps_max, alpha=0.1, gamma=1, exploration=exp)\n",
    "    returns_ql_fl[i] = ret\n",
    "    lengths_ql_fl[i] = lens"
   ]
  },
  {
   "cell_type": "markdown",
   "id": "8986240c",
   "metadata": {},
   "source": [
    "## Analysis of the trained model"
   ]
  },
  {
   "cell_type": "code",
   "execution_count": 21,
   "id": "d4f5cf4d",
   "metadata": {},
   "outputs": [
    {
     "data": {
      "text/plain": [
       "[<matplotlib.lines.Line2D at 0x1bd4e208820>]"
      ]
     },
     "execution_count": 21,
     "metadata": {},
     "output_type": "execute_result"
    },
    {
     "data": {
      "image/png": "[encoded data removed]",
      "text/plain": [
       "<Figure size 1296x432 with 1 Axes>"
      ]
     },
     "metadata": {},
     "output_type": "display_data"
    }
   ],
   "source": [
    "ret_avg = np.mean(returns_ql_fl, 0)\n",
    "len_avg = np.mean(lengths_ql_fl, 0)\n",
    "\n",
    "# plot average rewards per\n",
    "plt.plot(list(range(ret_avg.size)), rolling_average(ret_avg, window_size=5))"
   ]
  },
  {
   "cell_type": "code",
   "execution_count": 22,
   "id": "90b7b9a2",
   "metadata": {},
   "outputs": [
    {
     "data": {
      "text/plain": [
       "[<matplotlib.lines.Line2D at 0x1bd4e5945e0>]"
      ]
     },
     "execution_count": 22,
     "metadata": {},
     "output_type": "execute_result"
    },
    {
     "data": {
      "image/png": "[encoded data removed]",
      "text/plain": [
       "<Figure size 1296x432 with 1 Axes>"
      ]
     },
     "metadata": {},
     "output_type": "display_data"
    }
   ],
   "source": [
    "# Plot average number of steps to reach the goal, while avoiding the dynamic obstacle\n",
    "plt.plot(list(range(len_avg.size)), rolling_average(len_avg, window_size=20))"
   ]
  },
  {
   "cell_type": "code",
   "execution_count": 25,
   "id": "32b0c999",
   "metadata": {},
   "outputs": [],
   "source": [
    "# Save the tabular policy\n",
    "tabular_policy = dict(Q)\n",
    "\n",
    "json_tabular_policy = {}\n",
    "for k in tabular_policy:\n",
    "    json_tabular_policy[str(k)] = list(tabular_policy[k])\n",
    "\n",
    "\n",
    "# print(json.dumps(json_tabular_policy))\n",
    "with open(\"policy.json\", \"w\") as p:\n",
    "    p.write(json.dumps(json_tabular_policy))"
   ]
  },
  {
   "cell_type": "code",
   "execution_count": null,
   "id": "280ca1c2",
   "metadata": {},
   "outputs": [],
   "source": []
  }
 ],
 "metadata": {
  "kernelspec": {
   "display_name": "Python 3 (ipykernel)",
   "language": "python",
   "name": "python3"
  },
  "language_info": {
   "codemirror_mode": {
    "name": "ipython",
    "version": 3
   },
   "file_extension": ".py",
   "mimetype": "text/x-python",
   "name": "python",
   "nbconvert_exporter": "python",
   "pygments_lexer": "ipython3",
   "version": "3.9.12"
  }
 },
 "nbformat": 4,
 "nbformat_minor": 5
}
